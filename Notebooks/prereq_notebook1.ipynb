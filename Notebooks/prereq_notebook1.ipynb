{
 "cells": [
  {
   "cell_type": "code",
   "execution_count": null,
   "id": "44e1cef2",
   "metadata": {},
   "outputs": [],
   "source": [
    "print(\"Hello from my first notebook\")"
   ]
  }
 ],
 "metadata": {
  "language_info": {
   "name": "python"
  }
 },
 "nbformat": 4,
 "nbformat_minor": 5
}
