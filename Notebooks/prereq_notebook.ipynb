{
 "cells": [
  {
   "cell_type": "code",
   "execution_count": 1,
   "id": "44e1cef2",
   "metadata": {},
   "outputs": [
    {
     "name": "stdout",
     "output_type": "stream",
     "text": [
      "Hello from my first notebook\n"
     ]
    }
   ],
   "source": [
    "print(\"Hello from my first notebook\")"
   ]
  },
  {
   "cell_type": "markdown",
   "id": "f7027043",
   "metadata": {},
   "source": [
    "Hello, my name is Nayalys, I am from Cuba and I am graduted in Computer Sciences. I am excited because of the course and I want to learn Python Programing, Data Analysis and SQL. I love Math and logical programing."
   ]
  }
 ],
 "metadata": {
  "kernelspec": {
   "display_name": "Python 3",
   "language": "python",
   "name": "python3"
  },
  "language_info": {
   "codemirror_mode": {
    "name": "ipython",
    "version": 3
   },
   "file_extension": ".py",
   "mimetype": "text/x-python",
   "name": "python",
   "nbconvert_exporter": "python",
   "pygments_lexer": "ipython3",
   "version": "3.12.10"
  }
 },
 "nbformat": 4,
 "nbformat_minor": 5
}
